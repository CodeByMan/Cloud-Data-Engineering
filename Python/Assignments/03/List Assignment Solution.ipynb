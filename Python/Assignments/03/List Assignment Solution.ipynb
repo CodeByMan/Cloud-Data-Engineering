{
 "cells": [
  {
   "cell_type": "markdown",
   "id": "79910dcb-e118-4612-8034-9a447223eb19",
   "metadata": {},
   "source": [
    "List Assignment"
   ]
  },
  {
   "cell_type": "code",
   "execution_count": 2,
   "id": "4e8a6809-6508-486a-8965-3423098337c6",
   "metadata": {},
   "outputs": [
    {
     "name": "stdin",
     "output_type": "stream",
     "text": [
      "How many elements do you want to enter?  2\n",
      "Enter element 0:  23\n",
      "Enter element 1:  23\n"
     ]
    },
    {
     "name": "stdout",
     "output_type": "stream",
     "text": [
      "Your list: ['23', '23']\n",
      "Alternate elements: ['23']\n"
     ]
    }
   ],
   "source": [
    "def print_alternate_elements(lst):\n",
    "    # Using slicing to pick every 2nd element, starting with index 0\n",
    "    alternates = lst[::2]\n",
    "    print(\"Alternate elements:\", alternates)\n",
    "\n",
    "def main():\n",
    "    # Input number of elements\n",
    "    n = int(input(\"How many elements do you want to enter? \"))\n",
    "    arr = []\n",
    "    for i in range(n):\n",
    "        x = input(f\"Enter element {i}: \")\n",
    "        arr.append(x)\n",
    "    \n",
    "    print(\"Your list:\", arr)\n",
    "    print_alternate_elements(arr)\n",
    "\n",
    "if __name__ == \"__main__\":\n",
    "    main()\n"
   ]
  },
  {
   "cell_type": "code",
   "execution_count": 3,
   "id": "cefa8372-a7a0-4040-b39d-220980097dc1",
   "metadata": {},
   "outputs": [
    {
     "name": "stdin",
     "output_type": "stream",
     "text": [
      "How many elements?  1\n",
      "Enter element 0:  25\n"
     ]
    },
    {
     "name": "stdout",
     "output_type": "stream",
     "text": [
      "Original list: ['25']\n",
      "Reversed list: ['25']\n"
     ]
    }
   ],
   "source": [
    "\n",
    "n = int(input(\"How many elements? \"))\n",
    "\n",
    "# Read elements into a list\n",
    "lst = []\n",
    "for i in range(n):\n",
    "    x = input(f\"Enter element {i}: \")\n",
    "    lst.append(x)\n",
    "\n",
    "print(\"Original list:\", lst)\n",
    "\n",
    "\n",
    "start = 0\n",
    "end = len(lst) - 1\n",
    "while start < end:\n",
    "    # swap\n",
    "    lst[start], lst[end] = lst[end], lst[start]\n",
    "    start += 1\n",
    "    end -= 1\n",
    "\n",
    "print(\"Reversed list:\", lst)\n"
   ]
  },
  {
   "cell_type": "code",
   "execution_count": 4,
   "id": "5ebf95c4-3332-4575-83d9-226f6e2b43a4",
   "metadata": {},
   "outputs": [
    {
     "name": "stdin",
     "output_type": "stream",
     "text": [
      "Enter how many numbers:  4\n",
      "Enter number 1:  24\n",
      "Enter number 2:  25\n",
      "Enter number 3:  26\n",
      "Enter number 4:  27\n"
     ]
    },
    {
     "name": "stdout",
     "output_type": "stream",
     "text": [
      "You entered: [24.0, 25.0, 26.0, 27.0]\n",
      "The largest number in the list is: 27.0\n"
     ]
    }
   ],
   "source": [
    "\n",
    "n = int(input(\"Enter how many numbers: \"))\n",
    "lst = []\n",
    "for i in range(n):\n",
    "    x = float(input(f\"Enter number {i + 1}: \"))\n",
    "    lst.append(x)\n",
    "print(\"You entered:\", lst)\n",
    "largest = lst[0]\n",
    "for i in range(1, len(lst)):\n",
    "    if lst[i] > largest:\n",
    "        largest = lst[i]\n",
    "print(\"The largest number in the list is:\", largest)\n"
   ]
  },
  {
   "cell_type": "code",
   "execution_count": 17,
   "id": "00446438-3456-43ae-9c62-2567c12715c9",
   "metadata": {},
   "outputs": [
    {
     "name": "stdin",
     "output_type": "stream",
     "text": [
      "Enter how many elements:  2\n",
      "Enter element 0:  34\n",
      "Enter element 1:  43\n"
     ]
    },
    {
     "name": "stdout",
     "output_type": "stream",
     "text": [
      "Original list: ['34', '43']\n",
      "Rotated list: ['43', '34']\n"
     ]
    }
   ],
   "source": [
    "\n",
    "n = int(input(\"Enter how many elements: \"))\n",
    "lst = []\n",
    "for i in range(n):\n",
    "    x = input(f\"Enter element {i}: \")\n",
    "    lst.append(x)\n",
    "\n",
    "print(\"Original list:\", lst)\n",
    "if n > 0:\n",
    "    last = lst[-1]\n",
    "    for i in range(n - 1, 0, -1):\n",
    "        lst[i] = lst[i - 1]\n",
    "    lst[0] = last\n",
    "\n",
    "print(\"Rotated list:\", lst)\n"
   ]
  },
  {
   "cell_type": "code",
   "execution_count": 19,
   "id": "eb8377ef-c1b3-4ec4-8f22-e239bc7a703a",
   "metadata": {},
   "outputs": [
    {
     "name": "stdin",
     "output_type": "stream",
     "text": [
      "Enter a string:  Umair is a word\n",
      "Enter the word you want to delete:  Umair\n"
     ]
    },
    {
     "name": "stdout",
     "output_type": "stream",
     "text": [
      "After deleting the word, the new string is:\n",
      "is a word\n"
     ]
    }
   ],
   "source": [
    "s = input(\"Enter a string: \")\n",
    "word_to_delete = input(\"Enter the word you want to delete: \")\n",
    "words = s.split()\n",
    "new_words = []\n",
    "for w in words:\n",
    "    if w != word_to_delete:\n",
    "        new_words.append(w)\n",
    "result = \" \".join(new_words)\n",
    "print(\"After deleting the word, the new string is:\")\n",
    "print(result)\n",
    "\n",
    "        "
   ]
  },
  {
   "cell_type": "code",
   "execution_count": 21,
   "id": "b29e9cac-6f0c-4121-88ce-cc85315f3f1f",
   "metadata": {},
   "outputs": [
    {
     "name": "stdin",
     "output_type": "stream",
     "text": [
      "Enter date (mm/dd/yyyy):  12/13/2005\n"
     ]
    },
    {
     "name": "stdout",
     "output_type": "stream",
     "text": [
      "December 13, 2005\n"
     ]
    }
   ],
   "source": [
    "date_str = input(\"Enter date (mm/dd/yyyy): \")\n",
    "parts = date_str.split(\"/\")\n",
    "month = int(parts[0])\n",
    "day = int(parts[1])\n",
    "year = int(parts[2])\n",
    "month_names = [\n",
    "    \"January\", \"February\", \"March\", \"April\", \"May\", \"June\",\n",
    "    \"July\", \"August\", \"September\", \"October\", \"November\", \"December\"\n",
    "]\n",
    "month_name = month_names[month - 1]\n",
    "print(f\"{month_name} {day}, {year}\")\n"
   ]
  },
  {
   "cell_type": "code",
   "execution_count": 22,
   "id": "71709678-b0cf-46d7-8967-ec1e7ad241c1",
   "metadata": {},
   "outputs": [
    {
     "name": "stdin",
     "output_type": "stream",
     "text": [
      "Enter a sentence:  Umair is here\n"
     ]
    },
    {
     "name": "stdout",
     "output_type": "stream",
     "text": [
      "Output: Umair Is Here\n"
     ]
    }
   ],
   "source": [
    "def capitalize_each_word(s):\n",
    "    words = s.split()\n",
    "    new_words = []\n",
    "    for w in words:\n",
    "        if len(w) > 0:\n",
    "            new_w = w[0].upper() + w[1:]\n",
    "            new_words.append(new_w)\n",
    "        else:\n",
    "            new_words.append(w)\n",
    "    return \" \".join(new_words)\n",
    "input_str = input(\"Enter a sentence: \")\n",
    "result = capitalize_each_word(input_str)\n",
    "print(\"Output:\", result)\n"
   ]
  },
  {
   "cell_type": "code",
   "execution_count": 23,
   "id": "3a093586-48f5-4907-b0a1-50e49cef3005",
   "metadata": {},
   "outputs": [
    {
     "name": "stdin",
     "output_type": "stream",
     "text": [
      "Enter number of rows (m):  2\n",
      "Enter number of columns (n):  3\n",
      "Enter row 1 elements separated by spaces:  2\n",
      "Enter row 2 elements separated by spaces:  3\n"
     ]
    },
    {
     "name": "stdout",
     "output_type": "stream",
     "text": [
      "Matrix:\n",
      "[2]\n",
      "[3]\n",
      "Sum of row 1 = 2\n",
      "Sum of row 2 = 3\n"
     ]
    }
   ],
   "source": [
    "m = int(input(\"Enter number of rows (m): \"))\n",
    "n = int(input(\"Enter number of columns (n): \"))\n",
    "matrix = []\n",
    "for i in range(m):\n",
    "    row = input(f\"Enter row {i + 1} elements separated by spaces: \").split()\n",
    "    row = [int(num) for num in row]\n",
    "    matrix.append(row)\n",
    "print(\"Matrix:\")\n",
    "for row in matrix:\n",
    "    print(row)\n",
    "for i in range(m):\n",
    "    row_sum = 0\n",
    "    for num in matrix[i]:\n",
    "        row_sum += num\n",
    "    print(f\"Sum of row {i + 1} = {row_sum}\")\n"
   ]
  },
  {
   "cell_type": "code",
   "execution_count": 26,
   "id": "9f499a96-7fdc-4795-b0d3-23fb0fe11b03",
   "metadata": {},
   "outputs": [
    {
     "name": "stdin",
     "output_type": "stream",
     "text": [
      "Enter number of rows:  2\n",
      "Enter number of columns:  1\n"
     ]
    },
    {
     "name": "stdout",
     "output_type": "stream",
     "text": [
      "Enter first matrix:\n"
     ]
    },
    {
     "name": "stdin",
     "output_type": "stream",
     "text": [
      "Row 1 (elements separated by space):  2 4 3\n",
      "Row 2 (elements separated by space):  2\n"
     ]
    },
    {
     "name": "stdout",
     "output_type": "stream",
     "text": [
      "Enter second matrix:\n"
     ]
    },
    {
     "name": "stdin",
     "output_type": "stream",
     "text": [
      "Row 1 (elements separated by space):  2 3 4\n",
      "Row 2 (elements separated by space):  2 5 7\n"
     ]
    },
    {
     "name": "stdout",
     "output_type": "stream",
     "text": [
      "Sum matrix:\n",
      "4\n",
      "4\n"
     ]
    }
   ],
   "source": [
    "n = int(input(\"Enter number of rows: \"))\n",
    "m = int(input(\"Enter number of columns: \"))\n",
    "print(\"Enter first matrix:\")\n",
    "A = []\n",
    "for i in range(n):\n",
    "    row = input(f\"Row {i + 1} (elements separated by space): \").split()\n",
    "    A.append([int(x) for x in row])\n",
    "print(\"Enter second matrix:\")\n",
    "B = []\n",
    "for i in range(n):\n",
    "    row = input(f\"Row {i + 1} (elements separated by space): \").split()\n",
    "    B.append([int(x) for x in row])\n",
    "C = []\n",
    "for i in range(n):\n",
    "    c_row = []\n",
    "    for j in range(m):\n",
    "        c_row.append(A[i][j] + B[i][j])\n",
    "    C.append(c_row)\n",
    "print(\"Sum matrix:\")\n",
    "for row in C:\n",
    "    print(\" \".join(str(x) for x in row))\n"
   ]
  },
  {
   "cell_type": "code",
   "execution_count": null,
   "id": "83d600c9-48a8-4847-968b-231427e5597f",
   "metadata": {},
   "outputs": [],
   "source": []
  }
 ],
 "metadata": {
  "kernelspec": {
   "display_name": "Python 3 (ipykernel)",
   "language": "python",
   "name": "python3"
  },
  "language_info": {
   "codemirror_mode": {
    "name": "ipython",
    "version": 3
   },
   "file_extension": ".py",
   "mimetype": "text/x-python",
   "name": "python",
   "nbconvert_exporter": "python",
   "pygments_lexer": "ipython3",
   "version": "3.13.5"
  }
 },
 "nbformat": 4,
 "nbformat_minor": 5
}
